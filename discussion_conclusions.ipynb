{
 "cells": [
  {
   "cell_type": "markdown",
   "metadata": {},
   "source": [
    "I hae tried correlating several stats vs player attributes. In some cases the strongest correlation attribute does not exceed 25%, which tells me that team performance and/other players performance are affecting the correlation significantly. This needs to be explored further, but for now I can look for strong correlations which I can for sure trust.\n",
    "\n",
    "For example the Conversion Rate stat does not strongly depend on individual stats"
   ]
  },
  {
   "cell_type": "markdown",
   "metadata": {},
   "source": []
  }
 ],
 "metadata": {
  "language_info": {
   "name": "python"
  }
 },
 "nbformat": 4,
 "nbformat_minor": 2
}
