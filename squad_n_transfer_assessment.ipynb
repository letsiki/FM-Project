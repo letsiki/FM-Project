{
 "cells": [
  {
   "cell_type": "code",
   "execution_count": 95,
   "metadata": {},
   "outputs": [],
   "source": [
    "import pandas as pd"
   ]
  },
  {
   "cell_type": "code",
   "execution_count": 96,
   "metadata": {},
   "outputs": [
    {
     "name": "stdout",
     "output_type": "stream",
     "text": [
      "(49, 15)\n"
     ]
    }
   ],
   "source": [
    "df = pd.read_csv('data/Potential Transfers/csv/1.csv')\n",
    "print(df.shape)"
   ]
  },
  {
   "cell_type": "code",
   "execution_count": 97,
   "metadata": {},
   "outputs": [
    {
     "name": "stdout",
     "output_type": "stream",
     "text": [
      "(16, 15)\n"
     ]
    }
   ],
   "source": [
    "df = df.loc[df['Rec'].str.contains('A')]\n",
    "print(df.shape)"
   ]
  },
  {
   "cell_type": "code",
   "execution_count": 99,
   "metadata": {},
   "outputs": [
    {
     "name": "stdout",
     "output_type": "stream",
     "text": [
      "<class 'pandas.core.frame.DataFrame'>\n",
      "Index: 16 entries, 0 to 41\n",
      "Data columns (total 15 columns):\n",
      " #   Column          Non-Null Count  Dtype \n",
      "---  ------          --------------  ----- \n",
      " 0   Inf             9 non-null      object\n",
      " 1   RF Matches      5 non-null      object\n",
      " 2   Name            16 non-null     object\n",
      " 3   Club            16 non-null     object\n",
      " 4   Position        16 non-null     object\n",
      " 5   Age             16 non-null     int64 \n",
      " 6   Ability         0 non-null      object\n",
      " 7   Potential       0 non-null      object\n",
      " 8   Transfer Value  16 non-null     object\n",
      " 9   Wage            16 non-null     object\n",
      " 10  Rec             16 non-null     object\n",
      " 11  Knowledge       16 non-null     object\n",
      " 12  Cons            16 non-null     int64 \n",
      " 13  Imp M           16 non-null     int64 \n",
      " 14  Inj Pr          16 non-null     int64 \n",
      "dtypes: int64(4), object(11)\n",
      "memory usage: 2.0+ KB\n",
      "None\n"
     ]
    }
   ],
   "source": [
    "min_consistency = 8\n",
    "max_inj_proneness = 17\n",
    "min_imp_matches = 1\n",
    "print(df.info())"
   ]
  },
  {
   "cell_type": "code",
   "execution_count": 100,
   "metadata": {},
   "outputs": [
    {
     "name": "stdout",
     "output_type": "stream",
     "text": [
      "(14, 15)\n"
     ]
    }
   ],
   "source": [
    "df = df.loc[(df['Cons'] >= min_consistency) & (df['Inj Pr'] <= max_inj_proneness) & (df['Imp M'] >= min_imp_matches)]\n",
    "print(df.shape)"
   ]
  },
  {
   "cell_type": "code",
   "execution_count": 101,
   "metadata": {},
   "outputs": [
    {
     "name": "stdout",
     "output_type": "stream",
     "text": [
      "19       Dante Baptiste - English\n",
      "34            Conor Carty - Irish\n",
      "2     Brennan Dickenson - English\n",
      "3        George Dowling - English\n",
      "6          Keiran Evans - English\n",
      "41       Hady Ghandour - Lebanese\n",
      "33          Corey Hurford - Welsh\n",
      "26           Taylor Jones - Welsh\n",
      "0            Graham Kelly - Irish\n",
      "12         Aaron Nemane - English\n",
      "4        Darren Oldaker - English\n",
      "36         Ayo Tanimowo - English\n",
      "31      Morgan Williams - English\n",
      "20     Matt Worthington - English\n",
      "Name: Name, dtype: object\n"
     ]
    }
   ],
   "source": [
    "df['Last Name'] = df['Name'].str.split(' ').str[1]\n",
    "print((df.sort_values(by='Last Name'))['Name'])"
   ]
  },
  {
   "cell_type": "code",
   "execution_count": null,
   "metadata": {},
   "outputs": [],
   "source": []
  },
  {
   "cell_type": "code",
   "execution_count": null,
   "metadata": {},
   "outputs": [],
   "source": []
  }
 ],
 "metadata": {
  "kernelspec": {
   "display_name": "project_fm",
   "language": "python",
   "name": "python3"
  },
  "language_info": {
   "codemirror_mode": {
    "name": "ipython",
    "version": 3
   },
   "file_extension": ".py",
   "mimetype": "text/x-python",
   "name": "python",
   "nbconvert_exporter": "python",
   "pygments_lexer": "ipython3",
   "version": "3.12.4"
  }
 },
 "nbformat": 4,
 "nbformat_minor": 2
}
