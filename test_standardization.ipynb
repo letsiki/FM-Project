{
 "cells": [
  {
   "cell_type": "code",
   "execution_count": 10,
   "metadata": {},
   "outputs": [],
   "source": [
    "import pandas as pd\n",
    "from sklearn.preprocessing import StandardScaler"
   ]
  },
  {
   "cell_type": "code",
   "execution_count": 11,
   "metadata": {},
   "outputs": [],
   "source": [
    "data = {\n",
    "    'col1': [1, 2, 3, 4, 5],\n",
    "    'col2': [6, 7, 8, 9, 10],\n",
    "    'col3': [1.5, 2.5, 3.5, 4.5, 5.5],  # Float values from 1 to 10\n",
    "    'col4': [11, 12, 13, 14, 15],       # Int values from 1 to 20\n",
    "    'col5': [16, 17, 18, 19, 20]        # Int values from 1 to 20\n",
    "}\n",
    "df = pd.DataFrame(data)\n"
   ]
  },
  {
   "cell_type": "code",
   "execution_count": 12,
   "metadata": {},
   "outputs": [],
   "source": [
    "df['col3'] = df['col3'].astype(float)\n",
    "df.iloc[:, 3:] = df.iloc[:, 3:].astype(int)\n",
    "\n",
    "\n"
   ]
  },
  {
   "cell_type": "code",
   "execution_count": 14,
   "metadata": {},
   "outputs": [
    {
     "name": "stderr",
     "output_type": "stream",
     "text": [
      "C:\\Users\\alexa\\AppData\\Local\\Temp\\ipykernel_6628\\503137127.py:8: FutureWarning: Setting an item of incompatible dtype is deprecated and will raise in a future error of pandas. Value '[-1.41421356 -0.70710678  0.          0.70710678  1.41421356]' has dtype incompatible with int64, please explicitly cast to a compatible dtype first.\n",
      "  df.iloc[:, 3:] = scaler.fit_transform(df.iloc[:, 3:])\n",
      "C:\\Users\\alexa\\AppData\\Local\\Temp\\ipykernel_6628\\503137127.py:8: FutureWarning: Setting an item of incompatible dtype is deprecated and will raise in a future error of pandas. Value '[-1.41421356 -0.70710678  0.          0.70710678  1.41421356]' has dtype incompatible with int64, please explicitly cast to a compatible dtype first.\n",
      "  df.iloc[:, 3:] = scaler.fit_transform(df.iloc[:, 3:])\n"
     ]
    }
   ],
   "source": [
    "# Initialize the StandardScaler\n",
    "scaler = StandardScaler()\n",
    "\n",
    "# Standardize the 3rd column (float values from 1 to 10)\n",
    "df[['col3']] = scaler.fit_transform(df[['col3']])\n",
    "\n",
    "# Standardize columns 4 to the last column (int values from 1 to 20)\n",
    "df.iloc[:, 3:] = scaler.fit_transform(df.iloc[:, 3:])\n",
    "\n",
    "\n"
   ]
  },
  {
   "cell_type": "code",
   "execution_count": 15,
   "metadata": {},
   "outputs": [
    {
     "name": "stdout",
     "output_type": "stream",
     "text": [
      "   col1  col2      col3      col4      col5\n",
      "0     1     6 -1.414214 -1.414214 -1.414214\n",
      "1     2     7 -0.707107 -0.707107 -0.707107\n",
      "2     3     8  0.000000  0.000000  0.000000\n",
      "3     4     9  0.707107  0.707107  0.707107\n",
      "4     5    10  1.414214  1.414214  1.414214\n"
     ]
    }
   ],
   "source": [
    "print(df)"
   ]
  },
  {
   "cell_type": "code",
   "execution_count": null,
   "metadata": {},
   "outputs": [],
   "source": []
  }
 ],
 "metadata": {
  "kernelspec": {
   "display_name": "project_fm",
   "language": "python",
   "name": "python3"
  },
  "language_info": {
   "codemirror_mode": {
    "name": "ipython",
    "version": 3
   },
   "file_extension": ".py",
   "mimetype": "text/x-python",
   "name": "python",
   "nbconvert_exporter": "python",
   "pygments_lexer": "ipython3",
   "version": "3.12.4"
  }
 },
 "nbformat": 4,
 "nbformat_minor": 2
}
